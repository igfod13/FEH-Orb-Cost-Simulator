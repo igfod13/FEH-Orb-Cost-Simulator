{
 "cells": [
  {
   "cell_type": "code",
   "execution_count": 91,
   "metadata": {
    "collapsed": true
   },
   "outputs": [],
   "source": [
    "import numpy as np\n",
    "import matplotlib.pyplot as plt\n",
    "from IPython.display import clear_output"
   ]
  },
  {
   "cell_type": "code",
   "execution_count": 113,
   "metadata": {
    "collapsed": false
   },
   "outputs": [],
   "source": [
    "# Get unit color distribution and ratio\n",
    "def summon(desired_color, num_wanted, free_pull, in_rand_pool, start_pct, num_per_rar, ratio_in_rar):\n",
    "    summon_complete = False\n",
    "    num_pulled = 0\n",
    "    pity_rate_count = 0\n",
    "    orbs_spent = 0\n",
    "    pity_breakers = 0\n",
    "    while not summon_complete:\n",
    "        # Generate 5 random numbers to simulate 5 stones\n",
    "        pull = np.random.rand(5)\n",
    "        # Get current pity rate\n",
    "        pity_incr = int(pity_rate_count / 5) * .005\n",
    "        # Current summon percentages\n",
    "        curr_pct = ([start_pct[0] + pity_incr * start_pct[0] / (start_pct[0] + start_pct[1]),\n",
    "                     start_pct[1] + pity_incr * start_pct[1] / (start_pct[0] + start_pct[1]),\n",
    "                     start_pct[2] - pity_incr * start_pct[2] / (start_pct[2] + start_pct[3] + start_pct[4]),\n",
    "                     start_pct[3] - pity_incr * start_pct[3] / (start_pct[2] + start_pct[3] + start_pct[4]),\n",
    "                     start_pct[4] - pity_incr * start_pct[4] / (start_pct[2] + start_pct[3] + start_pct[4])])\n",
    "        # Probability of drawing a specific color and rarity\n",
    "        prob_of_draw = (ratio_in_rar.T * curr_pct).T\n",
    "        # Probability of specific color\n",
    "        color_prob = sum(prob_of_draw)\n",
    "        # Probability of rarity given color\n",
    "        # prob_per_color = np.true_divide(prob_of_draw, color_prob)\n",
    "\n",
    "        # Cutoffs to determine what color and rarity is pulled\n",
    "        color_cutoff = np.add.accumulate(color_prob)\n",
    "        rarity_cutoff = np.concatenate((np.array([0]), color_cutoff))\n",
    "        # Generate color of orbs\n",
    "        stone_color = [0]*5\n",
    "        stone_remainder = np.zeros(5)\n",
    "        for i in range(0,5):\n",
    "            stone_color[i] = np.size(color_cutoff[(color_cutoff < pull[i])])\n",
    "            stone_remainder[i] = pull[i] - rarity_cutoff[stone_color[i]]\n",
    "        # Number of stones present for desired color\n",
    "        wanted_stones = stone_color.count(desired_color)\n",
    "        if wanted_stones > 0: # Pull desired color\n",
    "            cost_index = 1\n",
    "            pity_broken = False\n",
    "            p_5f = prob_of_draw[0][desired_color]\n",
    "            p_5 = prob_of_draw[1][desired_color]\n",
    "            p_4f = prob_of_draw[2][desired_color]\n",
    "            p_4 = prob_of_draw[3][desired_color]\n",
    "            p_3 = prob_of_draw[4][desired_color]\n",
    "            # Determine what rarity/unit the stone is\n",
    "            for i in range(0,5):\n",
    "                c = stone_color[i]\n",
    "                rem = stone_remainder[i]\n",
    "                if c == desired_color:\n",
    "                    if not free_pull:\n",
    "                        orbs_spent += 5 - int((cost_index + 1) / 3)\n",
    "                    else:\n",
    "                        free_pull = False\n",
    "                    pity_rate_count += 1\n",
    "                    cost_index += 1\n",
    "                    # Determine if pull was desired unit or pity broken\n",
    "                    if rem < np.true_divide(p_5f, num_per_rar[0][c]):\n",
    "                        num_pulled += 1\n",
    "                        pity_broken = True\n",
    "                    elif in_rand_pool[0] and rem > p_5f and rem < p_5f + np.true_divide(p_5, num_per_rar[1][c]):\n",
    "                        num_pulled += 1\n",
    "                        pity_broken = True\n",
    "                    elif rem < p_5f+p_5:\n",
    "                        pity_breakers += 1\n",
    "                        pity_broken = True\n",
    "                    elif num_per_rar[2][c] > 0 and rem < p_5f+p_5+np.true_divide(p_4f, num_per_rar[2][c]):\n",
    "                        num_pulled += 1\n",
    "                    elif (in_rand_pool[1] and rem > p_5f+p_5+p_4f and \n",
    "                          rem < p_5f+p_5+p_4f+np.true_divide(p_4, num_per_rar[3][c])):\n",
    "                        num_pulled += 1\n",
    "                    elif (in_rand_pool[2] and rem > p_5f+p_5+p_4f+p_4 and \n",
    "                          rem < p_5f+p_5+p_4f+p_4+np.true_divide(p_3, num_per_rar[4][c])):\n",
    "                        num_pulled += 1\n",
    "                if num_pulled == num_wanted:\n",
    "                    summon_complete = True\n",
    "                    # Completely stop summoning when desired unit pulled\n",
    "                    break\n",
    "            if pity_broken:\n",
    "                pity_rate_count = 0\n",
    "        else: # Pull optimal alternative color because desired color not present\n",
    "            color_not_present = np.invert(np.in1d([0, 1, 2, 3], stone_color))\n",
    "            break_prob = np.true_divide(prob_of_draw[0] + prob_of_draw[1], color_prob)\n",
    "            alt_color = np.argmin(break_prob + color_not_present)\n",
    "            for i in range(0,5):\n",
    "                if stone_color[i] == alt_color:\n",
    "                    if not free_pull:\n",
    "                        orbs_spent += 5\n",
    "                    else:\n",
    "                        free_pull = False\n",
    "                    pity_rate_count += 1\n",
    "                    # Pity break if 5* summoned\n",
    "                    if stone_remainder[i] < prob_of_draw[0][alt_color] + prob_of_draw[1][alt_color]:\n",
    "                        pity_breakers += 1\n",
    "                        pity_rate_count = 0\n",
    "                    break\n",
    "    return orbs_spent"
   ]
  },
  {
   "cell_type": "code",
   "execution_count": 134,
   "metadata": {
    "collapsed": false
   },
   "outputs": [
    {
     "name": "stdout",
     "output_type": "stream",
     "text": [
      "Trials finished: 99000\n",
      "Trials finished: 100000\n"
     ]
    }
   ],
   "source": [
    "#~~~~~~~~~~~~~~~~~~~~~~~~~~~~~~~~~~~~~~~~~~~~~~~~~~~~~~~~~~~~~~~~~~~~~~~~~~~~~~~~~~~~~~~~\n",
    "# Input data\n",
    "#~~~~~~~~~~~~~~~~~~~~~~~~~~~~~~~~~~~~~~~~~~~~~~~~~~~~~~~~~~~~~~~~~~~~~~~~~~~~~~~~~~~~~~~~\n",
    "start_pct = np.array([0.03, 0.03, 0.00, 0.58, 0.36]) #5*f, 5*, 4*f, 4*, 3* \n",
    "random_pool = np.array([[25, 15, 11, 8],  #5* exclusive\n",
    "                        [15, 15, 9, 12],  #4-5*\n",
    "                        [15, 12, 9, 13]]) #3-4*\n",
    "focus_5s = np.array([1, 1, 1, 1]) # R, B, G, C\n",
    "focus_4s = np.array([0, 0, 0, 0])\n",
    "desired_color = 0 # R=0, B=1, G=2, C=3 (replaced by color below)\n",
    "free_pull = False\n",
    "in_rand_pool = [True, True, False] #If in 5*, 4*, 3* pools and pulling that rarity is okay\n",
    "banner = '45' #reg, hf, leg, 45\n",
    "num_wanted = 1 # 1 for 5*, 11 for 5*+10 \n",
    "num_trials = 100000\n",
    "color = 'c' #r, b, g, c\n",
    "#~~~~~~~~~~~~~~~~~~~~~~~~~~~~~~~~~~~~~~~~~~~~~~~~~~~~~~~~~~~~~~~~~~~~~~~~~~~~~~~~~~~~~~~~\n",
    "\n",
    "if banner == 'reg':\n",
    "    start_pct = np.array([0.03, 0.03, 0.00, 0.58, 0.36])\n",
    "elif banner == 'hf':\n",
    "    start_pct = np.array([0.05, 0.03, 0.00, 0.58, 0.34])\n",
    "elif banner == 'leg':\n",
    "    start_pct = np.array([0.08, 0.00, 0.00, 0.58, 0.34])\n",
    "    focus_5s = np.array([3, 3, 3, 3])\n",
    "elif banner == '45':\n",
    "    start_pct = np.array([0.03, 0.03, 0.29, 0.29, 0.36])\n",
    "    focus_5s = np.array([3, 3, 3 , 3])\n",
    "    focus_4s = np.array([3, 3, 3, 3])\n",
    "if color == 'r':\n",
    "    desired_color = 0\n",
    "elif color == 'b':\n",
    "    desired_color = 1\n",
    "elif color == 'g':\n",
    "    desired_color = 2\n",
    "elif color == 'c':\n",
    "    desired_color = 3\n",
    "\n",
    "orbs = [0] * num_trials\n",
    "num_per_rar = np.vstack((focus_5s, random_pool[0,:]+random_pool[1,:], focus_4s,\n",
    "                        random_pool[1,:]+random_pool[2,:], random_pool[2,:]))\n",
    "ratio_in_rar = np.true_divide(num_per_rar, num_per_rar.sum(axis=1, keepdims=True), where=num_per_rar!=0)\n",
    "\n",
    "for i in range(0,num_trials):\n",
    "    orbs[i] = summon(desired_color, num_wanted, free_pull, in_rand_pool, start_pct, num_per_rar, ratio_in_rar)\n",
    "    if i % 1000 == 0:\n",
    "        clear_output()\n",
    "        print(\"Trials finished: %d\" % i)\n",
    "print(\"Trials finished: %d\" % num_trials)"
   ]
  },
  {
   "cell_type": "code",
   "execution_count": 135,
   "metadata": {
    "collapsed": false,
    "scrolled": false
   },
   "outputs": [
    {
     "name": "stdout",
     "output_type": "stream",
     "text": [
      "Num. Trials: 100000\n",
      "First pull: 0.088750\n",
      "0-49: 0.645080\n",
      "50-99: 0.241550\n",
      "100-149: 0.076470\n",
      "150-199: 0.024870\n",
      "200-249: 0.007840\n",
      "250-299: 0.002860\n",
      "300-349: 0.000920\n",
      "350+: 0.000410\n",
      "Mean: 47.602720\n",
      "Std. Dev.: 44.443349\n",
      "Median: 34\n",
      "90th perc.: 105\n",
      "Max: 701\n"
     ]
    },
    {
     "data": {
      "image/png": "[encoded data removed]",
      "text/plain": [
       "<matplotlib.figure.Figure at 0xbead2e8>"
      ]
     },
     "metadata": {},
     "output_type": "display_data"
    }
   ],
   "source": [
    "num_trials = float(num_trials)\n",
    "np_orbs = np.array(orbs)\n",
    "print(\"Num. Trials: %d\" % num_trials)\n",
    "if num_wanted > 5:\n",
    "    print(\"0-499: %f\" % (np.size(np_orbs[(np_orbs < 500)]) / num_trials))\n",
    "    print(\"500-999: %f\" % (np.size(np_orbs[(np_orbs >= 500) & (np_orbs < 1000)]) / num_trials))\n",
    "    print(\"1000-1499: %f\" % (np.size(np_orbs[(np_orbs >= 1000) & (np_orbs < 1500)]) / num_trials))\n",
    "    print(\"1500-1999: %f\" % (np.size(np_orbs[(np_orbs >= 1500) & (np_orbs < 2000)]) / num_trials))\n",
    "    print(\"2000-2499: %f\" % (np.size(np_orbs[(np_orbs >= 2000) & (np_orbs < 2500)]) / num_trials))\n",
    "    print(\"2500-2999: %f\" % (np.size(np_orbs[(np_orbs >= 2500) & (np_orbs < 3000)]) / num_trials))\n",
    "    print(\"3000-3499: %f\" % (np.size(np_orbs[(np_orbs >= 3000) & (np_orbs < 3500)]) / num_trials))\n",
    "    print(\"3500+: %f\" % (np.size(np_orbs[(np_orbs >= 3500)]) / num_trials))\n",
    "else:\n",
    "    print(\"First pull: %f\" % (np.size(np_orbs[(np_orbs == 5)]) / num_trials))\n",
    "    print(\"0-49: %f\" % (np.size(np_orbs[(np_orbs < 50)]) / num_trials))\n",
    "    print(\"50-99: %f\" % (np.size(np_orbs[(np_orbs >= 50) & (np_orbs < 100)]) / num_trials))\n",
    "    print(\"100-149: %f\" % (np.size(np_orbs[(np_orbs >= 100) & (np_orbs < 150)]) / num_trials))\n",
    "    print(\"150-199: %f\" % (np.size(np_orbs[(np_orbs >= 150) & (np_orbs < 200)]) / num_trials))\n",
    "    print(\"200-249: %f\" % (np.size(np_orbs[(np_orbs >= 200) & (np_orbs < 250)]) / num_trials))\n",
    "    print(\"250-299: %f\" % (np.size(np_orbs[(np_orbs >= 250) & (np_orbs < 300)]) / num_trials))\n",
    "    print(\"300-349: %f\" % (np.size(np_orbs[(np_orbs >= 300) & (np_orbs < 350)]) / num_trials))\n",
    "    print(\"350+: %f\" % (np.size(np_orbs[(np_orbs >= 350)]) / num_trials))\n",
    "print(\"Mean: %f\" % (np.mean(np_orbs)))\n",
    "print(\"Std. Dev.: %f\" % (np.std(np_orbs)))\n",
    "print(\"Median: %d\" % (np.median(np_orbs)))\n",
    "print(\"90th perc.: %d\" % (np.percentile(np_orbs, 90)))\n",
    "print(\"Max: %d\" % (np.max(np_orbs)))\n",
    "\n",
    "plt.hist(np_orbs, bins='auto', histtype='stepfilled')\n",
    "plt.title('Summoning Cost Distribution')\n",
    "plt.xlabel('Orbs Spent')\n",
    "\n",
    "plt.show()"
   ]
  },
  {
   "cell_type": "code",
   "execution_count": null,
   "metadata": {
    "collapsed": false
   },
   "outputs": [],
   "source": []
  }
 ],
 "metadata": {
  "anaconda-cloud": {},
  "kernelspec": {
   "display_name": "Python [conda root]",
   "language": "python",
   "name": "conda-root-py"
  },
  "language_info": {
   "codemirror_mode": {
    "name": "ipython",
    "version": 2
   },
   "file_extension": ".py",
   "mimetype": "text/x-python",
   "name": "python",
   "nbconvert_exporter": "python",
   "pygments_lexer": "ipython2",
   "version": "2.7.12"
  }
 },
 "nbformat": 4,
 "nbformat_minor": 1
}
