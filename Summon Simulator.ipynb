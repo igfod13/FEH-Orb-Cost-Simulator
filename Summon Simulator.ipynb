{
 "cells": [
  {
   "cell_type": "code",
   "execution_count": 354,
   "metadata": {
    "collapsed": true
   },
   "outputs": [],
   "source": [
    "import numpy as np\n",
    "import matplotlib.pyplot as plt\n",
    "from IPython.display import clear_output"
   ]
  },
  {
   "cell_type": "code",
   "execution_count": 370,
   "metadata": {
    "collapsed": false
   },
   "outputs": [],
   "source": [
    "# Get unit color distribution and ratio\n",
    "def summon(desired_color, num_wanted, free_pull, start_percent, focus, random_pool):\n",
    "    num_per_rarity = np.vstack((focus, random_pool[0,:]+random_pool[1,:], \n",
    "                                random_pool[1,:]+random_pool[2,:], random_pool[2,:]))\n",
    "    ratio_in_rarity = np.true_divide(num_per_rarity, num_per_rarity.sum(axis=1, keepdims=True))\n",
    "\n",
    "    num_pulled = 0\n",
    "    pity_count = 0\n",
    "    summoned = False\n",
    "    orbs_spent = 0\n",
    "    pity_breakers = 0\n",
    "    while not summoned:\n",
    "        # Generate 5 random numbers to simulate 5 stones\n",
    "        pull = np.random.rand(5)\n",
    "        # Get current pity rate\n",
    "        pity_increase = int(pity_count / 5)\n",
    "        # Current summon percentages\n",
    "        curr_percent = ([start_percent[0] + pity_increase * .005 * start_percent[0] / (start_percent[0] + start_percent[1]),\n",
    "                         start_percent[1] + pity_increase * .005 * start_percent[1] / (start_percent[0] + start_percent[1]),\n",
    "                         start_percent[2] - pity_increase * .005 * start_percent[2] / (start_percent[2] + start_percent[3]),\n",
    "                         start_percent[3] - pity_increase * .005 * start_percent[3] / (start_percent[2] + start_percent[3])])\n",
    "        # Probability of drawing a specific color and rarity\n",
    "        prob_of_draw = (ratio_in_rarity.T * curr_percent).T\n",
    "        # Probability of specific color\n",
    "        color_prob = sum(prob_of_draw)\n",
    "        # Probability of rarity given color\n",
    "#        prob_per_color = np.true_divide(prob_of_draw, color_prob)\n",
    "\n",
    "        # Cutoffs to determine what color and rarity is pulled\n",
    "        color_cutoff = np.add.accumulate(color_prob)\n",
    "        rarity_cutoff = np.concatenate((np.array([0]), color_cutoff))\n",
    "        # Generate color of orbs\n",
    "        stone_color = []\n",
    "        stone_remainder = []\n",
    "        for i in range(0,5):\n",
    "            stone_color.append(np.size(color_cutoff[(color_cutoff < pull[i])]))\n",
    "            stone_remainder.append(pull[i] - rarity_cutoff[stone_color[i]])\n",
    "        # Number of stones present for desired color\n",
    "        wanted_stones = stone_color.count(desired_color)\n",
    "        if wanted_stones > 0: # Pull desired color\n",
    "            cost_index = 1\n",
    "            pity_broken = False\n",
    "            for i in range(0,5):\n",
    "                if stone_color[i] == desired_color:\n",
    "                    if not free_pull:\n",
    "                        orbs_spent += 5 - int((cost_index + 1) / 3)\n",
    "                    else:\n",
    "                        free_pull = False\n",
    "                    pity_count += 1\n",
    "                    cost_index += 1\n",
    "                    # Determine if pull was desired unit or pity broken\n",
    "                    if stone_remainder[i] < np.true_divide(prob_of_draw[0][stone_color[i]],num_per_rarity[0][stone_color[i]]):\n",
    "                        num_pulled += 1\n",
    "                        if num_pulled == num_wanted:\n",
    "                            summoned = True\n",
    "                            # Completely stop summoning when desired unit pulled\n",
    "                            break\n",
    "                        pity_broken = True\n",
    "                    elif stone_remainder[i] < prob_of_draw[0][stone_color[i]] + prob_of_draw[1][stone_color[i]]:\n",
    "                        pity_breakers += 1\n",
    "                        pity_broken = True\n",
    "            if pity_broken:\n",
    "                pity_count = 0\n",
    "        else: # Pull alternative color because desired color not present\n",
    "            color_not_present = np.invert(np.in1d([0, 1, 2, 3], stone_color))\n",
    "            break_prob = np.true_divide(prob_of_draw[0] + prob_of_draw[1], color_prob)\n",
    "            alt_color = np.argmin(break_prob + color_not_present)\n",
    "            for i in range(0,5):\n",
    "                if stone_color[i] == alt_color:\n",
    "                    if not free_pull:\n",
    "                        orbs_spent += 5\n",
    "                    else:\n",
    "                        free_pull = False\n",
    "                    pity_count += 1\n",
    "                    # Pity break if 5* summoned\n",
    "                    if stone_remainder[i] < prob_of_draw[0][stone_color[i]] + prob_of_draw[1][stone_color[i]]:\n",
    "                        pity_breakers += 1\n",
    "                        pity_count = 0\n",
    "                    break\n",
    "    #     print(pull)\n",
    "    #     print(rarity_cutoff)\n",
    "    #     print(stone_color)\n",
    "    #     print(stone_remainder)\n",
    "\n",
    "    # print(orbs_spent)\n",
    "    # print(pity_breakers)\n",
    "    return orbs_spent"
   ]
  },
  {
   "cell_type": "code",
   "execution_count": 397,
   "metadata": {
    "collapsed": false
   },
   "outputs": [
    {
     "name": "stdout",
     "output_type": "stream",
     "text": [
      "Trials finished: 9000\n"
     ]
    }
   ],
   "source": [
    "start_percent = np.array([0.03, 0.03, 0.58, 0.36])\n",
    "focus = np.array([1, 1, 1 , 0]) # R, B, G, C\n",
    "# start_percent = np.array([0.08, 0.00, 0.58, 0.34])\n",
    "# focus = np.array([3, 3, 3 , 3]) # R, B, G, C\n",
    "random_pool = np.array([[25, 15, 11, 8],  #5* exclusive\n",
    "                        [15, 15, 9, 12],  #4-5*\n",
    "                        [15, 12, 9, 13]]) #3-4*\n",
    "\n",
    "free_pull = False\n",
    "num_wanted = 1 # 1 for 5*, 11 for 5*+10 \n",
    "desired_color = 1 # R=0, B=1, G=2, C=3\n",
    "num_trials = 10000\n",
    "orbs = []\n",
    "\n",
    "for i in range(0,num_trials):\n",
    "    orbs.append(summon(desired_color, num_wanted, free_pull, start_percent, focus, random_pool))\n",
    "    if i % 1000 == 0:\n",
    "        clear_output()\n",
    "        print(\"Trials finished: %d\" % i)\n",
    "print(\"Trials finished: %d\" % num_trials)"
   ]
  },
  {
   "cell_type": "code",
   "execution_count": 398,
   "metadata": {
    "collapsed": false,
    "scrolled": false
   },
   "outputs": [
    {
     "name": "stdout",
     "output_type": "stream",
     "text": [
      "Num. Trials: 10000\n",
      "First pull: 0.031200\n",
      "0-49: 0.288400\n",
      "50-99: 0.241300\n",
      "100-149: 0.167900\n",
      "150-199: 0.111400\n",
      "200-249: 0.069500\n",
      "250-299: 0.044000\n",
      "300-349: 0.027600\n",
      "350+: 0.049900\n",
      "Mean: 124.249900\n",
      "Std. Dev.: 114.094246\n",
      "Median: 93\n",
      "90th perc.: 273\n",
      "Max: 1152\n"
     ]
    },
    {
     "data": {
      "image/png": "[encoded data removed]",
      "text/plain": [
       "<matplotlib.figure.Figure at 0xaa31208>"
      ]
     },
     "metadata": {},
     "output_type": "display_data"
    }
   ],
   "source": [
    "num_trials = float(num_trials)\n",
    "np_orbs = np.array(orbs)\n",
    "print(\"Num. Trials: %d\" % num_trials)\n",
    "if num_wanted > 5:\n",
    "    print(\"0-499: %f\" % (np.size(np_orbs[(np_orbs < 500)]) / num_trials))\n",
    "    print(\"500-999: %f\" % (np.size(np_orbs[(np_orbs >= 500) & (np_orbs < 1000)]) / num_trials))\n",
    "    print(\"1000-1499: %f\" % (np.size(np_orbs[(np_orbs >= 1000) & (np_orbs < 1500)]) / num_trials))\n",
    "    print(\"1500-1999: %f\" % (np.size(np_orbs[(np_orbs >= 1500) & (np_orbs < 2000)]) / num_trials))\n",
    "    print(\"2000-2499: %f\" % (np.size(np_orbs[(np_orbs >= 2000) & (np_orbs < 2500)]) / num_trials))\n",
    "    print(\"2500-2999: %f\" % (np.size(np_orbs[(np_orbs >= 2500) & (np_orbs < 3000)]) / num_trials))\n",
    "    print(\"3000-3499: %f\" % (np.size(np_orbs[(np_orbs >= 3000) & (np_orbs < 3500)]) / num_trials))\n",
    "    print(\"3500+: %f\" % (np.size(np_orbs[(np_orbs >= 3500)]) / num_trials))\n",
    "else:\n",
    "    print(\"First pull: %f\" % (np.size(np_orbs[(np_orbs == 5)]) / num_trials))\n",
    "    print(\"0-49: %f\" % (np.size(np_orbs[(np_orbs < 50)]) / num_trials))\n",
    "    print(\"50-99: %f\" % (np.size(np_orbs[(np_orbs >= 50) & (np_orbs < 100)]) / num_trials))\n",
    "    print(\"100-149: %f\" % (np.size(np_orbs[(np_orbs >= 100) & (np_orbs < 150)]) / num_trials))\n",
    "    print(\"150-199: %f\" % (np.size(np_orbs[(np_orbs >= 150) & (np_orbs < 200)]) / num_trials))\n",
    "    print(\"200-249: %f\" % (np.size(np_orbs[(np_orbs >= 200) & (np_orbs < 250)]) / num_trials))\n",
    "    print(\"250-299: %f\" % (np.size(np_orbs[(np_orbs >= 250) & (np_orbs < 300)]) / num_trials))\n",
    "    print(\"300-349: %f\" % (np.size(np_orbs[(np_orbs >= 300) & (np_orbs < 350)]) / num_trials))\n",
    "    print(\"350+: %f\" % (np.size(np_orbs[(np_orbs >= 350)]) / num_trials))\n",
    "print(\"Mean: %f\" % (np.mean(np_orbs)))\n",
    "print(\"Std. Dev.: %f\" % (np.std(np_orbs)))\n",
    "print(\"Median: %d\" % (np.median(np_orbs)))\n",
    "print(\"90th perc.: %d\" % (np.percentile(np_orbs, 90)))\n",
    "print(\"Max: %d\" % (np.max(np_orbs)))\n",
    "\n",
    "plt.hist(orbs, bins='auto')\n",
    "plt.title('Summoning Cost Distribution')\n",
    "plt.xlabel('Orbs Spent')\n",
    "\n",
    "plt.show()"
   ]
  },
  {
   "cell_type": "code",
   "execution_count": null,
   "metadata": {
    "collapsed": true
   },
   "outputs": [],
   "source": []
  }
 ],
 "metadata": {
  "anaconda-cloud": {},
  "kernelspec": {
   "display_name": "Python [conda root]",
   "language": "python",
   "name": "conda-root-py"
  },
  "language_info": {
   "codemirror_mode": {
    "name": "ipython",
    "version": 2
   },
   "file_extension": ".py",
   "mimetype": "text/x-python",
   "name": "python",
   "nbconvert_exporter": "python",
   "pygments_lexer": "ipython2",
   "version": "2.7.12"
  }
 },
 "nbformat": 4,
 "nbformat_minor": 1
}
